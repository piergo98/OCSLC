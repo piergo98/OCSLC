{
 "cells": [
  {
   "cell_type": "code",
   "execution_count": 3,
   "metadata": {},
   "outputs": [],
   "source": [
    "import casadi as ca\n",
    "import numpy as np\n",
    "import scipy.io\n",
    "import matplotlib.pyplot as plt\n",
    "from ipywidgets import interactive"
   ]
  },
  {
   "cell_type": "code",
   "execution_count": null,
   "metadata": {},
   "outputs": [],
   "source": [
    "from cycler import cycler\n",
    "\n",
    "default_cycler = (\n",
    "    cycler(color=[\n",
    "        '#0072BD', '#D95319', '#EDB120', '#7E2F8E', '#77AC30',\n",
    "        '#4DBEEE', '#A2142F', '#FF6F00', '#8DFF33', '#33FFF7',\n",
    "    ]) +\n",
    "    cycler('linestyle', [\n",
    "        '-', '--', '-.', ':', '-',\n",
    "        '--', '-.', ':', '-', '--'\n",
    "    ])\n",
    ")\n",
    "\n",
    "textsize = 16\n",
    "labelsize = 18\n",
    "\n",
    "plt.rc('font', family='serif', serif='Times')\n",
    "plt.rcParams[\"text.usetex\"] = True\n",
    "plt.rc('text.latex', preamble=r'\\usepackage{amsmath} \\usepackage{amsfonts} \\DeclareMathAlphabet{\\mathcal}{OMS}{cmsy}{m}{n}')\n",
    "plt.rc('xtick', labelsize=textsize)\n",
    "plt.rc('ytick', labelsize=textsize)\n",
    "plt.rc('axes', titlesize=labelsize, labelsize=labelsize, prop_cycle=default_cycler)\n",
    "plt.rc('legend', fontsize=textsize)\n",
    "plt.rc('grid', linestyle='-.', alpha=0.5)\n",
    "plt.rc('axes', grid=True)\n",
    "\n",
    "plt.rcParams['figure.constrained_layout.use'] = True"
   ]
  },
  {
   "cell_type": "code",
   "execution_count": null,
   "metadata": {},
   "outputs": [],
   "source": [
    "import numpy as np\n",
    "\n",
    "# Example list of N arrays of dimension (3,1)\n",
    "list_of_arrays = [np.array([[1, 2, 3]]), np.array([[4, 5, 6]]), np.array([[7, 8, 9]])]\n",
    "\n",
    "# Convert the list of arrays into a matrix of dimension (N, 3)\n",
    "matrix = np.vstack(list_of_arrays)\n",
    "\n",
    "print(f\"List of arrays: {list_of_arrays}\")\n",
    "print(f\"matrix: {matrix.shape}\")"
   ]
  },
  {
   "cell_type": "code",
   "execution_count": null,
   "metadata": {},
   "outputs": [],
   "source": [
    "times = np.array([0.100, 0.297, 0.433, 0.642, 0.767, 1.0])\n",
    "sum_of_groups = [np.sum(times[i:i+3]) for i in range(0, len(times), 3)]\n",
    "print(sum_of_groups)\n",
    "\n",
    "durations = np.diff(times)\n",
    "\n",
    "durations = np.insert(durations, 0, times[0])\n",
    "\n",
    "# print(durations)\n",
    "\n",
    "pippo = [2]\n",
    "print(pippo[0])"
   ]
  },
  {
   "cell_type": "code",
   "execution_count": null,
   "metadata": {},
   "outputs": [],
   "source": [
    "from scipy.linalg import solve_continuous_are\n",
    "\n",
    "A = np.array([[-1, 0], [1, 2]])\n",
    "B = np.array([[1], [1]])\n",
    "\n",
    "Q = 1000 * np.eye(2)\n",
    "R = 1\n",
    "\n",
    "P = solve_continuous_are(A, B, Q, R)\n",
    "\n",
    "print(P)"
   ]
  },
  {
   "cell_type": "markdown",
   "metadata": {},
   "source": [
    "### Generate Data"
   ]
  },
  {
   "cell_type": "code",
   "execution_count": null,
   "metadata": {},
   "outputs": [],
   "source": [
    "from examples.example_non_autonomous_linear import test_non_autonomous_switched_linear_comparison\n",
    "\n",
    "test_non_autonomous_switched_linear_comparison()"
   ]
  },
  {
   "cell_type": "markdown",
   "metadata": {},
   "source": [
    "### Load Precomputed Data"
   ]
  },
  {
   "cell_type": "code",
   "execution_count": null,
   "metadata": {},
   "outputs": [],
   "source": [
    "# Load data from a .mat file\n",
    "data = scipy.io.loadmat('comparison_results.mat')\n",
    "\n",
    "# Extract the relevant variables\n",
    "optimal_costs = data['optimal_costs'][0] \n",
    "optimal_constraints = data['optimal_constraints'][0]\n",
    "iter_array = data['iter_array'][0]  # Extract the array from the nested structure\n",
    "\n",
    "constraints_value_ss = optimal_constraints[0].flatten()\n",
    "constraints_value_ms = optimal_constraints[1].flatten()"
   ]
  },
  {
   "cell_type": "markdown",
   "metadata": {},
   "source": [
    "### Plot Data"
   ]
  },
  {
   "cell_type": "code",
   "execution_count": null,
   "metadata": {},
   "outputs": [],
   "source": [
    "fig, axs = plt.subplots(2, 1, figsize=(6.4, 6.4))\n",
    "\n",
    "# Plot the optimal costs function value\n",
    "axs[0].plot(optimal_costs[0].flatten(), label='SS')\n",
    "axs[0].plot(optimal_costs[1].flatten(), label='MS')\n",
    "axs[0].set_xlim([1, len(optimal_costs[1])])\n",
    "axs[0].set_xlabel('Number of Iterations')\n",
    "axs[0].set_ylabel('Objective Function')\n",
    "axs[0].set_xscale('log')\n",
    "axs[0].set_yscale('log')\n",
    "axs[0].legend()\n",
    "\n",
    "# Plot the constraints violation\n",
    "axs[1].plot(np.abs(constraints_value_ss), label='SS')\n",
    "axs[1].plot(np.abs(constraints_value_ms), label='MS')\n",
    "axs[1].set_xlim([1, len(optimal_costs[1])])\n",
    "axs[1].set_xlabel('Number of Iterations')\n",
    "axs[1].set_ylabel('Constraints Violation')\n",
    "axs[1].set_xscale('log')\n",
    "axs[1].set_yscale('log')\n",
    "axs[1].legend()\n",
    "\n",
    "plt.savefig('obj_constr_vs_iter.pdf', format='pdf', bbox_inches='tight')"
   ]
  },
  {
   "cell_type": "markdown",
   "metadata": {},
   "source": [
    "### Load Data"
   ]
  },
  {
   "cell_type": "code",
   "execution_count": null,
   "metadata": {},
   "outputs": [],
   "source": [
    "# Load data from a .mat file\n",
    "data = scipy.io.loadmat('optimal_results_pannocchia_ms.mat')\n",
    "\n",
    "# Extract the relevant variables\n",
    "time_horizon = data['time_horizon'][0][0]\n",
    "states = data['trajectory'][0]\n",
    "controls = data['controls'][0]\n",
    "phase_durations = data['phases_duration'][0]\n",
    "n_states = data['n_states'][0][0]\n",
    "n_phases = data['n_phases'][0][0]\n",
    "\n",
    "A = np.array([[-0.1, 0, 0], [0, -2, -6.25], [0, 4, 0]])\n",
    "B = np.array([[0.25], [2], [0]])\n",
    "Q = 1. * np.eye(n_states)\n",
    "R = 0.1 * np.eye(1)\n",
    "from scipy.linalg import solve_continuous_are\n",
    "P = np.array(solve_continuous_are(A, B, Q, R))\n",
    "\n",
    "print(states[5])\n",
    "print(type(phase_durations))"
   ]
  },
  {
   "cell_type": "markdown",
   "metadata": {},
   "source": [
    "### Compute accumulated cost function MS"
   ]
  },
  {
   "cell_type": "code",
   "execution_count": 28,
   "metadata": {},
   "outputs": [],
   "source": [
    "state = ca.MX.sym('state', n_states)\n",
    "control_input = ca.MX.sym('u', 1)\n",
    "t = ca.MX.sym('t')\n",
    "\n",
    "# state_evolution = aut_evol(t) @ state + forced_evol(t, control_input)\n",
    "# state_evol = ca.Function('state_evol', [state, control_input, t], [state_evolution])\n",
    "xdot = A @ state + B @ control_input\n",
    "\n",
    "# x_ = ca.MX.sym('x_', n_states)\n",
    "# u_ = ca.MX.sym('u_', 1)\n",
    "# t_ = ca.MX.sym('t_')\n",
    "\n",
    "# L = 0.5 * (ca.transpose(state_evol(x_, u_, t_)) @ Q @ state_evol(x_, u_, t_) + ca.transpose(u_) @ R @ u_)\n",
    "L = 0.5 * (ca.transpose(state) @ Q @ state + ca.transpose(control_input) @ R @ control_input)\n",
    "# l = ca.Function('l', [state, control_input], [L])\n",
    "\n",
    "# Define the integrator for the cost function\n",
    "\n",
    "dae = {'x': state, 'p': control_input, 'ode': xdot, 'quad': L}\n",
    "\n",
    "# for d in range(1, steps):\n",
    "#     Q_ += l(X0, U0, d*h)\n",
    "# Q_ += l(X0, U0, Delta) / 2\n",
    "# cost = Q_ * h\n",
    "# cf = ca.Function('cf', [X0, U0, Delta], [cost])\n",
    "\n",
    "# Compute the accumulated cost function\n",
    "cost_ms = []\n",
    "value_ms = 0\n",
    "# cost_ms.append(value_ms)\n",
    "for i in range(n_phases):\n",
    "    x = states[n_states*i:n_states*(i+1)]\n",
    "    u = controls[i]\n",
    "    delta = phase_durations[i]\n",
    "    dQ = ca.integrator('Q_', 'cvodes', dae, 0, delta)\n",
    "    value_ms += dQ(x0=x, p=u)['qf']\n",
    "    cost_ms.append(value_ms.full().flatten()[0])\n",
    "i = n_phases\n",
    "xf = states[n_states*i:n_states*(i+1)]\n",
    "# Final cost\n",
    "value_ms += 0.5 * ca.transpose(xf) @ P @ xf\n",
    "cost_ms.append(value_ms.full().flatten()[0])\n",
    "\n",
    "# Create the time grid\n",
    "tgrid_ms = []\n",
    "points = 1\n",
    "time = 0\n",
    "next_time = 0\n",
    "for i in range(n_phases):\n",
    "    next_time = next_time + phase_durations[i]\n",
    "    tgrid_ms = np.concatenate((tgrid_ms, np.linspace(time, next_time, points, endpoint=False)))\n",
    "    time = time + phase_durations[i]\n",
    "tgrid_ms = np.concatenate((tgrid_ms, [time_horizon]))\n"
   ]
  },
  {
   "cell_type": "code",
   "execution_count": null,
   "metadata": {},
   "outputs": [],
   "source": [
    "# Compute the state trajectory through a finer grid\n",
    "A = np.array([[-0.1, 0, 0], [0, -2, -6.25], [0, 4, 0]])\n",
    "B = np.array([[0.25], [2], [0]])\n",
    "\n",
    "state = ca.MX.sym('state', n_states)\n",
    "control_input = ca.MX.sym('u', 1)\n",
    "t = ca.MX.sym('t')\n",
    "\n",
    "xdot = A @ state + B @ control_input\n",
    "dae = {'x': state, 'p': control_input, 'ode': xdot, 'quad': 0}\n",
    "\n",
    "x0 = states[:n_states]\n",
    "switching_instants = np.cumsum(phase_durations).tolist()\n",
    "traj = [x0]\n",
    "time = 0\n",
    "M= 100\n",
    "for switch in switching_instants:\n",
    "    dt = (switch - time ) / M\n",
    "    for i in range(M):\n",
    "        dF = ca.integrator('dF', 'cvodes', dae, 0, dt)\n",
    "        idx = switching_instants.index(switch)\n",
    "        x0 = dF(x0=x0, p=controls[idx])['xf']\n",
    "        traj.append(x0.full().flatten())\n",
    "    time = switch\n",
    "    \n",
    "# Create the time grid mesh\n",
    "time_grid = []\n",
    "points = 100\n",
    "time = 0\n",
    "next_time = 0\n",
    "for i in range(n_phases):\n",
    "    next_time = next_time + phase_durations[i]\n",
    "    time_grid = np.concatenate((time_grid, np.linspace(time, next_time, points, endpoint=False)))\n",
    "    time = time + phase_durations[i]\n",
    "time_grid = np.concatenate((time_grid, [time_horizon]))\n",
    "\n",
    "# Plot the state trajectory\n",
    "traj = np.array(traj)\n",
    "plt.figure()\n",
    "plt.plot(time_grid, traj[:, 0], label='x1')\n",
    "plt.plot(time_grid, traj[:, 1], label='x2')\n",
    "plt.plot(time_grid, traj[:, 2], label='x3')\n",
    "plt.xlabel('Time')\n",
    "plt.ylabel('State')\n",
    "plt.xlim([0, time_horizon])\n",
    "plt.legend()\n",
    "plt.grid()\n",
    "plt.savefig('state_trajectory_ms.pdf', format='pdf', bbox_inches='tight')\n"
   ]
  },
  {
   "cell_type": "markdown",
   "metadata": {},
   "source": [
    "### Load data SS"
   ]
  },
  {
   "cell_type": "code",
   "execution_count": 45,
   "metadata": {},
   "outputs": [],
   "source": [
    "# Load data from a .mat file for SS\n",
    "data_ss = scipy.io.loadmat('optimal_results_pannocchia_ss.mat')\n",
    "\n",
    "time_horizon = data['time_horizon'][0][0]\n",
    "states_ss = data_ss['trajectory']\n",
    "controls_ss = data_ss['controls'][0]\n",
    "phase_durations_ss = data_ss['phases_duration'][0]\n",
    "n_states_ss = data_ss['n_states'][0][0]\n",
    "n_phases_ss = data_ss['n_phases'][0][0]"
   ]
  },
  {
   "cell_type": "markdown",
   "metadata": {},
   "source": [
    "### Compute accumulated cost function SS"
   ]
  },
  {
   "cell_type": "code",
   "execution_count": 21,
   "metadata": {},
   "outputs": [],
   "source": [
    "# Compute the accumulated cost function\n",
    "cost_ss = []\n",
    "value_ss = 0\n",
    "# cost_ss.append(value_ss)\n",
    "for i in range(n_phases_ss):\n",
    "    x = states_ss[i]\n",
    "    u = controls_ss[i]\n",
    "    delta = phase_durations_ss[i]\n",
    "    dQ = ca.integrator('Q_', 'cvodes', dae, 0, delta)\n",
    "    value_ss += dQ(x0=x, p=u)['qf']\n",
    "    cost_ss.append(value_ss.full().flatten()[0])\n",
    "i = n_phases_ss\n",
    "xf = states_ss[i]\n",
    "# Final cost\n",
    "value_ss += 0.5 * np.transpose(xf) @ P @ xf\n",
    "cost_ss.append(value_ss.full().flatten()[0])\n",
    "\n",
    "# Create the time grid\n",
    "tgrid_ss = []\n",
    "points = 1\n",
    "time = 0\n",
    "next_time = 0\n",
    "for i in range(n_phases_ss):\n",
    "    next_time = next_time + phase_durations_ss[i]\n",
    "    tgrid_ss = np.concatenate((tgrid_ss, np.linspace(time, next_time, points, endpoint=False)))\n",
    "    time = time + phase_durations_ss[i]\n",
    "tgrid_ss = np.concatenate((tgrid_ss, [time_horizon]))"
   ]
  },
  {
   "cell_type": "markdown",
   "metadata": {},
   "source": [
    "### Plot cost functions evolution"
   ]
  },
  {
   "cell_type": "code",
   "execution_count": null,
   "metadata": {},
   "outputs": [],
   "source": [
    "print(cost_ss[-1])\n",
    "print(cost_ms[-1])\n",
    "\n",
    "\n",
    "plt.figure()\n",
    "plt.plot(tgrid_ss, cost_ss, label='SS')\n",
    "plt.plot(tgrid_ms, cost_ms, label='MS', linestyle='--')\n",
    "plt.xlabel('Time')\n",
    "plt.ylabel('Cost')\n",
    "plt.xlim([0, time_horizon])\n",
    "plt.ylim([0, 1.1 * max(cost_ms)]) \n",
    "\n",
    "plt.legend()\n",
    "plt.grid()\n",
    "\n",
    "# plt.savefig('cost_ss_vs_cost_ms.pdf', format='pdf', bbox_inches='tight')\n",
    "\n",
    "\n",
    "plt.figure()\n",
    "plt.plot(tgrid_ss, cost_ss, label='SS')\n",
    "plt.xlabel('Time')\n",
    "plt.ylabel('Cost')\n",
    "plt.xlim([0, time_horizon])\n",
    "plt.ylim([0, 1.1 * max(cost_ms)]) \n",
    "\n",
    "# Add vertical lines to identify phase changes instants\n",
    "time = 0\n",
    "for i in range(n_phases_ss):\n",
    "    time = time + phase_durations_ss[i]\n",
    "    plt.axvline(x=time, color='k', linestyle='--', linewidth=0.5)\n",
    "\n",
    "\n",
    "plt.legend()\n",
    "plt.grid()\n",
    "# plt.savefig('cost_ss.pdf', format='pdf', bbox_inches='tight')\n",
    "\n",
    "\n",
    "plt.figure()\n",
    "plt.plot(tgrid_ms, cost_ms, label='MS', linestyle='--')\n",
    "plt.xlabel('Time')\n",
    "plt.ylabel('Cost')\n",
    "plt.xlim([0, time_horizon])\n",
    "plt.ylim([0, 1.1 * max(cost_ms)]) \n",
    "\n",
    "# Add vertical lines to identify phase changes instants\n",
    "time = 0\n",
    "for i in range(n_phases):\n",
    "    time = time + phase_durations[i]\n",
    "    plt.axvline(x=time, color='k', linestyle='--', linewidth=0.5)\n",
    "\n",
    "\n",
    "plt.legend()\n",
    "plt.grid()\n",
    "# plt.savefig('cost_ms.pdf', format='pdf', bbox_inches='tight')\n"
   ]
  },
  {
   "cell_type": "markdown",
   "metadata": {},
   "source": [
    "### Plot the system dynamics with a finer grid"
   ]
  },
  {
   "cell_type": "code",
   "execution_count": null,
   "metadata": {},
   "outputs": [],
   "source": [
    "# Compute the state trajectory through a finer grid\n",
    "A = np.array([[-0.1, 0, 0], [0, -2, -6.25], [0, 4, 0]])\n",
    "B = np.array([[0.25], [2], [0]])\n",
    "\n",
    "state = ca.MX.sym('state', n_states)\n",
    "control_input = ca.MX.sym('u', 1)\n",
    "t = ca.MX.sym('t')\n",
    "\n",
    "xdot = A @ state + B @ control_input\n",
    "dae = {'x': state, 'p': control_input, 'ode': xdot, 'quad': 0}\n",
    "\n",
    "x0 = np.array(states_ss[0].flatten())\n",
    "switching_instants_ss = np.cumsum(phase_durations_ss).tolist()\n",
    "traj = [x0]\n",
    "time = 0\n",
    "M = 100\n",
    "for switch in switching_instants_ss:\n",
    "    dt = (switch - time ) / M\n",
    "    for i in range(M):\n",
    "        dF = ca.integrator('dF', 'cvodes', dae, 0, dt)\n",
    "        idx = switching_instants_ss.index(switch)\n",
    "        x0 = dF(x0=x0, p=controls_ss[idx])['xf']\n",
    "        traj.append(x0.full().flatten())\n",
    "    time = switch\n",
    "    \n",
    "# Create the time grid mesh\n",
    "time_grid = []\n",
    "points = M\n",
    "time = 0\n",
    "next_time = 0\n",
    "for i in range(n_phases_ss):\n",
    "    next_time = next_time + phase_durations_ss[i]\n",
    "    time_grid = np.concatenate((time_grid, np.linspace(time, next_time, points, endpoint=False)))\n",
    "    time = time + phase_durations_ss[i]\n",
    "time_grid = np.concatenate((time_grid, [time_horizon]))\n",
    "\n",
    "# Plot the state trajectory\n",
    "traj = np.array(traj)\n",
    "plt.figure()\n",
    "plt.plot(time_grid, traj[:, 0], label='x1')\n",
    "plt.plot(time_grid, traj[:, 1], label='x2')\n",
    "plt.plot(time_grid, traj[:, 2], label='x3')\n",
    "plt.xlabel('Time')\n",
    "plt.ylabel('State')\n",
    "plt.xlim([0, time_horizon])\n",
    "plt.legend()\n",
    "plt.grid()\n",
    "plt.savefig('state_trajectory_ss.pdf', format='pdf', bbox_inches='tight')\n"
   ]
  },
  {
   "cell_type": "markdown",
   "metadata": {},
   "source": [
    "### New numerical example"
   ]
  },
  {
   "cell_type": "code",
   "execution_count": 110,
   "metadata": {},
   "outputs": [
    {
     "name": "stdout",
     "output_type": "stream",
     "text": [
      "[-5.+3.j -5.-3.j  1.+0.j]\n"
     ]
    }
   ],
   "source": [
    "A = np.array([[1, 0, 0], [-8, -5, 3], [2, -3, -5]])\n",
    "B = np.array([[1], [0], [0]])\n",
    "\n",
    "eigVal, eigVec = np.linalg.eig(A)\n",
    "print(eigVal)\n",
    "\n",
    "time_horizon = 2\n",
    "\n",
    "Q = 10. * np.eye(3)\n",
    "R = 0.1 * np.eye(1)\n",
    "# Solve the Algebraic Riccati Equation\n",
    "P = np.array(solve_continuous_are(A, B, Q, R))"
   ]
  },
  {
   "cell_type": "markdown",
   "metadata": {},
   "source": [
    "### LQR Control"
   ]
  },
  {
   "cell_type": "code",
   "execution_count": 118,
   "metadata": {},
   "outputs": [
    {
     "data": {
      "image/png": "[encoded data removed]",
      "text/plain": [
       "<Figure size 640x480 with 1 Axes>"
      ]
     },
     "metadata": {},
     "output_type": "display_data"
    },
    {
     "data": {
      "image/png": "[encoded data removed]",
      "text/plain": [
       "<Figure size 640x480 with 1 Axes>"
      ]
     },
     "metadata": {},
     "output_type": "display_data"
    }
   ],
   "source": [
    "# Compute the optimal control\n",
    "K = np.linalg.inv(R) @ np.transpose(B) @ P\n",
    "\n",
    "x0 = np.array([-3, 1, 5])\n",
    "\n",
    "# Plot the state trajectory\n",
    "state = ca.MX.sym('state', n_states)\n",
    "t = ca.MX.sym('t')\n",
    "\n",
    "xdot = (A - B @ K) @ state\n",
    "dae = {'x': state, 'ode': xdot}\n",
    "\n",
    "traj = [x0]\n",
    "switching_instants = np.linspace(0, time_horizon, 60).tolist()\n",
    "time = 0\n",
    "M = 1\n",
    "for switch in switching_instants:\n",
    "    dt = (switch - time ) / M\n",
    "    for i in range(M):\n",
    "        dF = ca.integrator('dF', 'cvodes', dae, 0, dt)\n",
    "        idx = switching_instants.index(switch)\n",
    "        x0 = dF(x0=x0, p=controls[idx])['xf']\n",
    "        traj.append(x0.full().flatten())\n",
    "    time = switch\n",
    "    \n",
    "# Create the time grid mesh\n",
    "time_grid = []\n",
    "points = M\n",
    "time = 0\n",
    "next_time = 0\n",
    "for i in range(60):\n",
    "    next_time = next_time + time_horizon / 60\n",
    "    time_grid = np.concatenate((time_grid, np.linspace(time, next_time, points, endpoint=False)))\n",
    "    time = time + time_horizon / 60\n",
    "time_grid = np.concatenate((time_grid, [time_horizon]))\n",
    "\n",
    "# Plot the state trajectory\n",
    "traj = np.array(traj)\n",
    "plt.figure()\n",
    "plt.plot(time_grid, traj[:, 0], label='x1')\n",
    "plt.plot(time_grid, traj[:, 1], label='x2')\n",
    "plt.plot(time_grid, traj[:, 2], label='x3')\n",
    "plt.xlabel('Time')\n",
    "plt.ylabel('State')\n",
    "plt.xlim([0, time_horizon])\n",
    "plt.legend()\n",
    "plt.grid()\n",
    "# plt.savefig('state_trajectory_ms.pdf', format='pdf', bbox_inches='tight')\n",
    "\n",
    "# Plot the control input\n",
    "control_input = -K @ traj[:, :3].T\n",
    "\n",
    "plt.figure()\n",
    "plt.step(time_grid, control_input.flatten())\n",
    "plt.xlabel('Time')\n",
    "plt.ylabel('Control Input')\n",
    "plt.xlim([0, time_horizon])\n",
    "plt.grid()\n",
    "# plt.savefig('control_input_ms.pdf', format='pdf', bbox_inches='tight')\n"
   ]
  },
  {
   "cell_type": "code",
   "execution_count": 36,
   "metadata": {},
   "outputs": [
    {
     "name": "stdout",
     "output_type": "stream",
     "text": [
      "40\n",
      "0.125\n",
      "0.125\n"
     ]
    },
    {
     "data": {
      "image/png": "[encoded data removed]",
      "text/plain": [
       "<Figure size 640x480 with 1 Axes>"
      ]
     },
     "metadata": {},
     "output_type": "display_data"
    }
   ],
   "source": [
    "# Generate an array of phase durations with exponential spacing that sum to time_horizon\n",
    "\n",
    "time_horizon = 5\n",
    "exp_dist = 1.**np.arange(40)\n",
    "phase_durations = exp_dist * time_horizon / np.sum(exp_dist)\n",
    "\n",
    "print(len(phase_durations))\n",
    "print(phase_durations[0])\n",
    "print(phase_durations[-1])\n",
    "\n",
    "plt.figure()\n",
    "plt.plot(phase_durations, marker='o')\n",
    "plt.xlabel('Phase Index')\n",
    "plt.ylabel('Phase Duration')\n",
    "plt.title('Phase Durations with Exponential Spacing')\n",
    "plt.grid()\n",
    "plt.show()\n"
   ]
  }
 ],
 "metadata": {
  "kernelspec": {
   "display_name": "Python 3",
   "language": "python",
   "name": "python3"
  },
  "language_info": {
   "codemirror_mode": {
    "name": "ipython",
    "version": 3
   },
   "file_extension": ".py",
   "mimetype": "text/x-python",
   "name": "python",
   "nbconvert_exporter": "python",
   "pygments_lexer": "ipython3",
   "version": "3.10.12"
  }
 },
 "nbformat": 4,
 "nbformat_minor": 2
}
