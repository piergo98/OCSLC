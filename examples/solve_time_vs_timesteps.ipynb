{
 "cells": [
  {
   "cell_type": "markdown",
   "metadata": {},
   "source": [
    "### Import Libraries"
   ]
  },
  {
   "cell_type": "code",
   "execution_count": null,
   "metadata": {},
   "outputs": [],
   "source": [
    "import os\n",
    "import time\n",
    "\n",
    "import matplotlib.pyplot as plt\n",
    "import numpy as np\n",
    "import pandas as pd\n",
    "\n",
    "from ocslc.switched_linear_mpc import SwitchedLinearMPC\n",
    "\n",
    "\n",
    "N_STEPS_MIN = 5\n",
    "N_STEPS_MAX_SS_INT = 100\n",
    "N_STEPS_MAX = 200\n",
    "N_STEPS_STEPS = 5\n",
    "\n",
    "column_names = [\"N Steps\", \"Shooting Method\", \"Integration Method\", \"Precompute Time\", \"Setup Time\", \"Solve Time\"]\n",
    "\n",
    "path = './csv/'\n",
    "filename = \"solve_times.csv\""
   ]
  },
  {
   "cell_type": "code",
   "execution_count": null,
   "metadata": {},
   "outputs": [],
   "source": [
    "def solve_pannocchia(n_phases, multiple_shooting=True, integration_method='int'):\n",
    "    start = time.time()\n",
    "\n",
    "    model = {\n",
    "        'A': [np.array([[-0.1, 0, 0], [0, -2, -6.25], [0, 4, 0]])],\n",
    "        'B': [np.array([[0.25], [2], [0]])],\n",
    "    }\n",
    "\n",
    "    n_states = model['A'][0].shape[0]\n",
    "    n_inputs = model['B'][0].shape[1]\n",
    "\n",
    "    time_horizon = 10\n",
    "\n",
    "    x0 = np.array([1.3440, -4.5850, 5.6470])\n",
    "\n",
    "    swi_lin_mpc = SwitchedLinearMPC(\n",
    "        model, n_phases, time_horizon, auto=False,\n",
    "        multiple_shooting=multiple_shooting, x0=x0, propagation=integration_method,\n",
    "    )\n",
    "\n",
    "    Q = 1. * np.eye(n_states)\n",
    "    R = 0.1 * np.eye(n_inputs)\n",
    "    E = 0. * np.eye(n_states)\n",
    "\n",
    "    swi_lin_mpc.precompute_matrices(x0, Q, R, E)\n",
    "\n",
    "    precompute_time = time.time() - start\n",
    "    start = time.time()\n",
    "\n",
    "    states_lb = np.array([-100, -100, -100])\n",
    "    states_ub = np.array([100, 100, 100]) \n",
    "\n",
    "    swi_lin_mpc.set_bounds(-1, 1, states_lb, states_ub)\n",
    "\n",
    "    if swi_lin_mpc.multiple_shooting:\n",
    "        swi_lin_mpc.multiple_shooting_constraints(x0)\n",
    "\n",
    "    swi_lin_mpc.set_cost_function(Q, R, x0)\n",
    "\n",
    "    # Set the initial guess  \n",
    "    swi_lin_mpc.set_initial_guess(time_horizon, x0)\n",
    "\n",
    "    swi_lin_mpc.create_solver('ipopt', print_level=0, print_time=False)\n",
    "\n",
    "    setup_time = time.time() - start\n",
    "    start = time.time()\n",
    "\n",
    "    inputs_opt, deltas_opt, _ = swi_lin_mpc.solve()\n",
    "    solving_time = time.time() - start\n",
    "\n",
    "    # swi_lin_mpc.plot_optimal_solution(deltas_opt, inputs_opt)\n",
    "    \n",
    "    return precompute_time, setup_time, solving_time"
   ]
  },
  {
   "cell_type": "markdown",
   "metadata": {},
   "source": [
    "### Save the Solving Times"
   ]
  },
  {
   "cell_type": "code",
   "execution_count": null,
   "metadata": {},
   "outputs": [],
   "source": [
    "times = []\n",
    "\n",
    "for n_steps in range(N_STEPS_MIN, N_STEPS_MAX_SS_INT + 1, N_STEPS_STEPS):\n",
    "    print(f\"n_steps = {n_steps}\")\n",
    "    for multiple_shooting_flag in [True, False]:\n",
    "        for integration_method in ['int', 'exp']:\n",
    "            shooting_method = \"Multiple Shooting\" if multiple_shooting_flag else \"Single Shooting\"\n",
    "            precompute_time, setup_time, solving_time = solve_pannocchia(\n",
    "                n_steps, multiple_shooting=multiple_shooting_flag, integration_method=integration_method\n",
    "            )\n",
    "            times.append([\n",
    "                n_steps, shooting_method, integration_method,\n",
    "                precompute_time, setup_time, solving_time,\n",
    "            ])"
   ]
  },
  {
   "cell_type": "markdown",
   "metadata": {},
   "source": [
    "### No Single Shooting"
   ]
  },
  {
   "cell_type": "code",
   "execution_count": null,
   "metadata": {},
   "outputs": [],
   "source": [
    "times = df[column_names].values.tolist()\n",
    "\n",
    "for n_steps in range(N_STEPS_MAX_SS_INT + N_STEPS_STEPS, N_STEPS_MAX + 1, N_STEPS_STEPS):\n",
    "    print(f\"n_steps = {n_steps}\")\n",
    "    for multiple_shooting_flag in [True, False]:\n",
    "        for integration_method in ['int', 'exp']:\n",
    "            if multiple_shooting_flag is False and integration_method == 'int':\n",
    "                continue\n",
    "            shooting_method = \"Multiple Shooting\" if multiple_shooting_flag else \"Single Shooting\"\n",
    "            precompute_time, setup_time, solving_time = solve_pannocchia(\n",
    "                n_steps, multiple_shooting=multiple_shooting_flag, integration_method=integration_method\n",
    "            )\n",
    "            times.append([\n",
    "                n_steps, shooting_method, integration_method,\n",
    "                precompute_time, setup_time, solving_time,\n",
    "            ])"
   ]
  },
  {
   "cell_type": "markdown",
   "metadata": {},
   "source": [
    "### Save the Solving Times"
   ]
  },
  {
   "cell_type": "code",
   "execution_count": null,
   "metadata": {},
   "outputs": [],
   "source": [
    "try:\n",
    "    os.makedirs(path)\n",
    "except OSError:\n",
    "    print(f\"Creation of the directory {path} failed.\")\n",
    "else:\n",
    "    print(f\"Successfully created the directory {path}.\")\n",
    "\n",
    "df = pd.DataFrame(times, columns=column_names)\n",
    "out_file = open(path+filename, 'wb')\n",
    "df.to_csv(out_file)\n",
    "out_file.close()"
   ]
  },
  {
   "cell_type": "markdown",
   "metadata": {},
   "source": [
    "### Plot the Results"
   ]
  },
  {
   "cell_type": "code",
   "execution_count": null,
   "metadata": {},
   "outputs": [],
   "source": [
    "from cycler import cycler\n",
    "\n",
    "default_cycler = (\n",
    "    cycler(color=[\n",
    "        '#0072BD', '#D95319', '#EDB120', '#7E2F8E', '#77AC30',\n",
    "        '#4DBEEE', '#A2142F', '#FF6F00', '#8DFF33', '#33FFF7',\n",
    "    ]) +\n",
    "    cycler('linestyle', [\n",
    "        '-', '--', '-.', ':', '-',\n",
    "        '--', '-.', ':', '-', '--'\n",
    "    ])\n",
    ")\n",
    "\n",
    "textsize = 16\n",
    "labelsize = 18\n",
    "\n",
    "plt.rc('font', family='serif', serif='Times')\n",
    "plt.rcParams[\"text.usetex\"] = True\n",
    "plt.rc('text.latex', preamble=r'\\usepackage{amsmath} \\usepackage{amsfonts} \\DeclareMathAlphabet{\\mathcal}{OMS}{cmsy}{m}{n}')\n",
    "plt.rc('xtick', labelsize=textsize)\n",
    "plt.rc('ytick', labelsize=textsize)\n",
    "plt.rc('axes', titlesize=labelsize, labelsize=labelsize, prop_cycle=default_cycler)\n",
    "plt.rc('legend', fontsize=textsize)\n",
    "plt.rc('grid', linestyle='-.', alpha=0.5)\n",
    "plt.rc('axes', grid=True)\n",
    "\n",
    "plt.rcParams['figure.constrained_layout.use'] = True"
   ]
  },
  {
   "cell_type": "code",
   "execution_count": null,
   "metadata": {},
   "outputs": [],
   "source": [
    "df = pd.read_csv(path + filename)\n",
    "fig, axs = plt.subplots(2, 2, figsize=(12.8, 9.6))\n",
    "\n",
    "for shooting_method in ['Single Shooting', 'Multiple Shooting']:\n",
    "    for integration_method in ['int', 'exp']:\n",
    "        subset = df[(df['Shooting Method'] == shooting_method) & (df['Integration Method'] == integration_method)]\n",
    "        \n",
    "        axs[0, 0].plot(subset['N Steps'], subset['Precompute Time'], label=f'{shooting_method} - {integration_method}')\n",
    "        axs[0, 1].plot(subset['N Steps'], subset['Setup Time'], label=f'{shooting_method} - {integration_method}')\n",
    "        axs[1, 0].plot(subset['N Steps'], subset['Solve Time'], label=f'{shooting_method} - {integration_method}')\n",
    "        total_time = subset['Precompute Time'] + subset['Setup Time'] + subset['Solve Time']\n",
    "        axs[1, 1].plot(subset['N Steps'], total_time, label=f'{shooting_method} - {integration_method}')\n",
    "        \n",
    "for ax in axs.flat:\n",
    "    ax.set_xlim([N_STEPS_MIN, N_STEPS_MAX])\n",
    "    ax.set_xlabel('Number of Steps')\n",
    "    ax.set_ylabel('Time [s]')\n",
    "    ax.set_yscale('log')\n",
    "    ax.legend()\n",
    "\n",
    "axs[0, 0].set_title('Precompute Time')\n",
    "axs[0, 1].set_title('Setup Time')\n",
    "axs[1, 0].set_title('Solve Time')\n",
    "axs[1, 1].set_title('Total Time')\n"
   ]
  }
 ],
 "metadata": {
  "kernelspec": {
   "display_name": "base",
   "language": "python",
   "name": "python3"
  },
  "language_info": {
   "codemirror_mode": {
    "name": "ipython",
    "version": 3
   },
   "file_extension": ".py",
   "mimetype": "text/x-python",
   "name": "python",
   "nbconvert_exporter": "python",
   "pygments_lexer": "ipython3",
   "version": "3.12.2"
  }
 },
 "nbformat": 4,
 "nbformat_minor": 2
}
